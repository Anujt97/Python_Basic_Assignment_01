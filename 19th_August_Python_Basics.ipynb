{
 "cells": [
  {
   "cell_type": "markdown",
   "id": "91c459b6",
   "metadata": {},
   "source": [
    "Question 1:- Declare two variables, `x` and `y`, and assign them integer values. Swap the\n",
    "values of these variables without using any temporary variable."
   ]
  },
  {
   "cell_type": "code",
   "execution_count": 20,
   "id": "4d396521",
   "metadata": {},
   "outputs": [
    {
     "name": "stdout",
     "output_type": "stream",
     "text": [
      "x = 20 y = 10\n"
     ]
    }
   ],
   "source": [
    "'''we can use 2 method\n",
    "1st method we can use by using some arithmatic operations'''\n",
    "x=10   # 1st Variable\n",
    "y=20   # 2nd Variable\n",
    "x=x+y  # x+y=30 which is stored in x\n",
    "y=x-y  # x-y=20 which is stored in y\n",
    "x=x-y  # x-y=10 which is stored in x\n",
    "print(\"x =\", x, \"y =\", y)"
   ]
  },
  {
   "cell_type": "code",
   "execution_count": 21,
   "id": "00096b9e",
   "metadata": {},
   "outputs": [
    {
     "name": "stdout",
     "output_type": "stream",
     "text": [
      "x = 20 y = 10\n"
     ]
    }
   ],
   "source": [
    "'''2nd method we can use is sir explined in class how we can assign value like'''\n",
    "x=10\n",
    "y=20\n",
    "x, y = y, x\n",
    "print(\"x =\", x, \"y =\", y)"
   ]
  },
  {
   "cell_type": "markdown",
   "id": "b24f25ff",
   "metadata": {},
   "source": [
    "Question 2 :- Create a program that calculates the area of a rectangle. Take the length and\n",
    "width as inputs from the user and store them in variables. Calculate and\n",
    "display the area."
   ]
  },
  {
   "cell_type": "code",
   "execution_count": 22,
   "id": "46d0d83a",
   "metadata": {},
   "outputs": [
    {
     "name": "stdout",
     "output_type": "stream",
     "text": [
      "Enter the length of the rectangle: 5\n",
      "Enter the width of the rectangle: 2\n",
      "The area of the rectangle with length 10.0\n"
     ]
    }
   ],
   "source": [
    "#input function with converting its data type to float and storing it into a variale\n",
    "length = float(input(\"Enter the length of the rectangle: \"))\n",
    "width = float(input(\"Enter the width of the rectangle: \"))\n",
    "\n",
    "#Calculating area of rectangle\n",
    "area_of_rectangle = length * width\n",
    "\n",
    "print(\"The area of the rectangle with length\", area_of_rectangle)"
   ]
  },
  {
   "cell_type": "markdown",
   "id": "577dc3df",
   "metadata": {},
   "source": [
    "Question 3 :- Write a Python program that converts temperatures from Celsius to\n",
    "Fahrenheit. Take the temperature in Celsius as input, store it in a variable,\n",
    "convert it to Fahrenheit, and display the result."
   ]
  },
  {
   "cell_type": "code",
   "execution_count": 23,
   "id": "75c78bef",
   "metadata": {},
   "outputs": [
    {
     "name": "stdout",
     "output_type": "stream",
     "text": [
      "Enter temperature in Celsius: 2\n",
      "Temperature in Fahrenheit: 35.6\n"
     ]
    }
   ],
   "source": [
    "# Input the temperature in Celsius from the user\n",
    "celsius = float(input(\"Enter temperature in Celsius: \"))\n",
    "\n",
    "# Convert Celsius to Fahrenheit\n",
    "fahrenheit = (celsius * 9/5) + 32\n",
    "\n",
    "# Display the result\n",
    "print(\"Temperature in Fahrenheit:\", fahrenheit)"
   ]
  },
  {
   "cell_type": "markdown",
   "id": "0e7bf4ef",
   "metadata": {},
   "source": [
    "Question 4:- Write a Python program that takes a string as input and prints the length of\n",
    "the string."
   ]
  },
  {
   "cell_type": "code",
   "execution_count": 24,
   "id": "09e226b7",
   "metadata": {},
   "outputs": [
    {
     "name": "stdout",
     "output_type": "stream",
     "text": [
      "Enter the string anuj\n",
      "Length of the string is: 4\n"
     ]
    }
   ],
   "source": [
    "#Input String\n",
    "string = input(\"Enter the string \")\n",
    "\n",
    "#Declaring initial variable \n",
    "length = 0\n",
    "\n",
    "for char in string:\n",
    "    length += 1\n",
    "    \n",
    "#printing length of the string\n",
    "print(\"Length of the string is:\", length)"
   ]
  },
  {
   "cell_type": "markdown",
   "id": "f1f972a1",
   "metadata": {},
   "source": [
    "Question 5 :- Create a program that takes a sentence from the user and counts the number\n",
    "of vowels (a, e, i, o, u) in the string."
   ]
  },
  {
   "cell_type": "code",
   "execution_count": 25,
   "id": "a383cd2b",
   "metadata": {},
   "outputs": [
    {
     "name": "stdout",
     "output_type": "stream",
     "text": [
      "Enter a sentence: aeihbfvhb\n",
      "Number of vowels in the sentence: 3\n"
     ]
    }
   ],
   "source": [
    "# Input a sentence \n",
    "sentence = input(\"Enter a sentence: \")\n",
    "\n",
    "# Convert the sentence to lowercase to make it case-insensitive\n",
    "sentence = sentence.lower()\n",
    "\n",
    "# Initialize a variable to count the vowels\n",
    "count = 0\n",
    "\n",
    "# Iterate through each character in the sentence\n",
    "for char in sentence:\n",
    "    # Check if the character is a vowel\n",
    "    if char in \"aeiou\":\n",
    "        count += 1\n",
    "\n",
    "# Print the number of vowels in the sentence\n",
    "print(\"Number of vowels in the sentence:\", count)"
   ]
  },
  {
   "cell_type": "markdown",
   "id": "cfd386c3",
   "metadata": {},
   "source": [
    "Question 6 :- Given a string, reverse the order of characters using string slicing and print\n",
    "the reversed string."
   ]
  },
  {
   "cell_type": "code",
   "execution_count": 26,
   "id": "1e8b62df",
   "metadata": {},
   "outputs": [
    {
     "name": "stdout",
     "output_type": "stream",
     "text": [
      "Enter a string: anuj\n",
      "Reversed string: juna\n"
     ]
    }
   ],
   "source": [
    "# Input string\n",
    "input_string = input(\"Enter a string: \")\n",
    "\n",
    "# Using string slicing to reverse the string\n",
    "reversed_string = input_string[::-1]\n",
    "\n",
    "# Print the reversed string\n",
    "print(\"Reversed string:\", reversed_string)"
   ]
  },
  {
   "cell_type": "markdown",
   "id": "5648ddd6",
   "metadata": {},
   "source": [
    "Question 7 :- Write a program that takes a string as input and checks if it is a palindrome"
   ]
  },
  {
   "cell_type": "code",
   "execution_count": 27,
   "id": "8245e6ed",
   "metadata": {},
   "outputs": [
    {
     "name": "stdout",
     "output_type": "stream",
     "text": [
      "Enter a string: mom\n",
      "The string is a palindrome.\n"
     ]
    }
   ],
   "source": [
    "# Input string\n",
    "input_string = input(\"Enter a string: \")\n",
    "\n",
    "# Removed spaces and converted to lowercase for case-insensitive comparison\n",
    "cleaned_string = input_string.replace(\" \", \"\").lower()\n",
    "\n",
    "# Reverse the string\n",
    "reversed_string = cleaned_string[::-1]\n",
    "\n",
    "# Checking if the original string is equal to its reverse\n",
    "if cleaned_string == reversed_string:\n",
    "    print(\"The string is a palindrome.\")\n",
    "else:\n",
    "    print(\"The string is not a palindrome.\")"
   ]
  },
  {
   "cell_type": "markdown",
   "id": "b015a86a",
   "metadata": {},
   "source": [
    "Question 8 :- Create a program that takes a string as input and removes all the spaces from\n",
    "it. Print the modified string without spaces."
   ]
  },
  {
   "cell_type": "code",
   "execution_count": 28,
   "id": "dafd96a6",
   "metadata": {},
   "outputs": [
    {
     "name": "stdout",
     "output_type": "stream",
     "text": [
      "Enter a string: Hello World \n",
      "Modified string without spaces: HelloWorld\n"
     ]
    }
   ],
   "source": [
    "# Input string\n",
    "input_string = input(\"Enter a string: \")\n",
    "\n",
    "# Initializing an empty string to store the modified string without spaces\n",
    "string_without_spaces = \"\"\n",
    "\n",
    "# Iterating through each character in the input string\n",
    "for char in input_string:\n",
    "    # Checking if the character is not a space\n",
    "    if char != ' ':\n",
    "        # Append non-space characters to the result string\n",
    "        string_without_spaces += char\n",
    "\n",
    "# Print the modified string without spaces\n",
    "print(\"Modified string without spaces:\", string_without_spaces)"
   ]
  },
  {
   "cell_type": "code",
   "execution_count": null,
   "id": "6def39b8",
   "metadata": {},
   "outputs": [],
   "source": []
  }
 ],
 "metadata": {
  "kernelspec": {
   "display_name": "Python 3 (ipykernel)",
   "language": "python",
   "name": "python3"
  },
  "language_info": {
   "codemirror_mode": {
    "name": "ipython",
    "version": 3
   },
   "file_extension": ".py",
   "mimetype": "text/x-python",
   "name": "python",
   "nbconvert_exporter": "python",
   "pygments_lexer": "ipython3",
   "version": "3.11.3"
  }
 },
 "nbformat": 4,
 "nbformat_minor": 5
}
